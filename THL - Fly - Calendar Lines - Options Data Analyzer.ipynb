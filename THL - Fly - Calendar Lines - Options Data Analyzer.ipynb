{
 "cells": [
  {
   "cell_type": "code",
   "execution_count": 1,
   "metadata": {},
   "outputs": [],
   "source": [
    "from sqlalchemy import extract, desc\n",
    "import datetime\n",
    "import time\n",
    "import MetaTrader5 as mt5\n",
    "import pandas as pd\n",
    "\n",
    "import options_estrategies as opt_est\n",
    "from options_estrategies import Option_Due, InformationType\n",
    "import models as model"
   ]
  },
  {
   "cell_type": "code",
   "execution_count": 2,
   "metadata": {},
   "outputs": [],
   "source": [
    "if not mt5.initialize():\n",
    "    print(\"initialize() failed\")\n",
    "    mt5.shutdown()\n",
    "\n",
    "estrategies = opt_est.options_estrategies(model, model.PETR4, model.PETR4_OPTIONS)"
   ]
  },
  {
   "cell_type": "code",
   "execution_count": 25,
   "metadata": {},
   "outputs": [],
   "source": [
    "def thl_convert_dict_from_update_ticks_to_dataframe(tick_data):\n",
    "    df_tick_data = pd.DataFrame.from_dict(tick_data)\n",
    "    df_tick_data = df_tick_data.drop(columns=['_sa_instance_state','timestamp_option','days_to_due_date'])\n",
    "    df_tick_data['stock_price'] = df_tick_data.stock_price.astype(float)\n",
    "    df_tick_data = df_tick_data[['option_name','deal_type_zone','stock_price','strike','bid','ask']]\n",
    "    \n",
    "    return df_tick_data\n"
   ]
  },
  {
   "cell_type": "code",
   "execution_count": 31,
   "metadata": {},
   "outputs": [],
   "source": [
    "updated_ticks = estrategies.update_quotes(just_last_update=True,mode=InformationType.Offline)\n",
    "options_dataframe_list = []\n",
    "for ticks_to_process in updated_ticks:\n",
    "    options_updated = []\n",
    "    for i in ticks_to_process:\n",
    "        options_updated.append(i.__dict__)\n",
    "\n",
    "    df_options_updated = thl_convert_dict_from_update_ticks_to_dataframe(options_updated)\n",
    "    df_options_updated.reset_index()\n",
    "    df_options_updated = df_options_updated.set_index('strike')\n",
    "    options_dataframe_list.append(df_options_updated)"
   ]
  },
  {
   "cell_type": "code",
   "execution_count": 32,
   "metadata": {
    "scrolled": true
   },
   "outputs": [],
   "source": [
    "df_this_month = options_dataframe_list[0]\n",
    "df_next_month = options_dataframe_list[1]\n",
    "df_after_next_month = options_dataframe_list[2]"
   ]
  },
  {
   "cell_type": "code",
   "execution_count": 95,
   "metadata": {},
   "outputs": [],
   "source": [
    "df_thl = pd.merge(df_this_month, df_next_month, left_index=True, right_index=True)\n",
    "df_thl_next_month = pd.merge(df_next_month, df_after_next_month, left_index=True, right_index=True)\n",
    "df_thl_calendar = pd.merge(df_this_month, df_after_next_month, left_index=True, right_index=True)"
   ]
  },
  {
   "cell_type": "code",
   "execution_count": 96,
   "metadata": {},
   "outputs": [],
   "source": [
    "def thl_convert_dict_from_update_ticks_to_dataframe(data_thl):\n",
    "    df_thl_compare = data_thl.copy()\n",
    "    df_thl_compare[\"thl_cost\"] = (df_thl_compare['bid_x'] - df_thl_compare['ask_y'])*-1\n",
    "    df_thl_compare[\"thl_percent_of_strike\"] = (df_thl_compare[\"thl_cost\"] / df_thl_compare.index)*100\n",
    "    df_thl_compare = df_thl_compare[['option_name_x','option_name_y','thl_percent_of_strike','thl_cost','bid_x','ask_y','deal_type_zone_y']]\n",
    "    df_thl_compare = df_thl_compare[df_thl_compare['ask_y'] > 0]\n",
    "    return df_thl_compare"
   ]
  },
  {
   "cell_type": "code",
   "execution_count": 97,
   "metadata": {},
   "outputs": [],
   "source": [
    "comparison_this_month = compare_to_dataframes_of_thl(df_thl)\n",
    "comparison_next_month = compare_to_dataframes_of_thl(df_thl_next_month)\n",
    "comparison_calendar = compare_to_dataframes_of_thl(df_thl_calendar)"
   ]
  },
  {
   "cell_type": "code",
   "execution_count": 98,
   "metadata": {},
   "outputs": [],
   "source": [
    "good_operation_THL = comparison_this_month[comparison_this_month['thl_percent_of_strike'] < 1.5]\n",
    "good_operation_THL_next_month = comparison_next_month[comparison_next_month['thl_percent_of_strike'] < 1.5]\n",
    "good_operation_calendar = comparison_calendar[comparison_calendar['thl_percent_of_strike'] < 1.5]"
   ]
  },
  {
   "cell_type": "code",
   "execution_count": 99,
   "metadata": {},
   "outputs": [
    {
     "name": "stdout",
     "output_type": "stream",
     "text": [
      "       option_name_x option_name_y  thl_percent_of_strike  thl_cost  bid_x  \\\n",
      "strike                                                                       \n",
      "28.96       PETRH243      PETRI289               1.450276      0.42   0.49   \n",
      "\n",
      "        ask_y deal_type_zone_y  \n",
      "strike                          \n",
      "28.96    0.91              OTM  \n"
     ]
    }
   ],
   "source": [
    "if len(good_operation_THL.index) > 0:\n",
    "    print(good_operation_THL)\n",
    "    \n",
    "if len(good_operation_THL_next_month.index) > 0:\n",
    "    print(good_operation_THL_next_month)\n",
    "\n",
    "if len(good_operation_calendar.index) > 0:\n",
    "    print(good_operation_calendar)    "
   ]
  },
  {
   "cell_type": "code",
   "execution_count": 103,
   "metadata": {},
   "outputs": [],
   "source": [
    "return_of_funcion = dict(thl=comparison_this_month, thl_next_month=comparison_next_month, thl_calendar=comparison_calendar)"
   ]
  },
  {
   "cell_type": "code",
   "execution_count": 105,
   "metadata": {},
   "outputs": [
    {
     "data": {
      "text/html": [
       "<div>\n",
       "<style scoped>\n",
       "    .dataframe tbody tr th:only-of-type {\n",
       "        vertical-align: middle;\n",
       "    }\n",
       "\n",
       "    .dataframe tbody tr th {\n",
       "        vertical-align: top;\n",
       "    }\n",
       "\n",
       "    .dataframe thead th {\n",
       "        text-align: right;\n",
       "    }\n",
       "</style>\n",
       "<table border=\"1\" class=\"dataframe\">\n",
       "  <thead>\n",
       "    <tr style=\"text-align: right;\">\n",
       "      <th></th>\n",
       "      <th>option_name_x</th>\n",
       "      <th>option_name_y</th>\n",
       "      <th>thl_percent_of_strike</th>\n",
       "      <th>thl_cost</th>\n",
       "      <th>bid_x</th>\n",
       "      <th>ask_y</th>\n",
       "      <th>deal_type_zone_y</th>\n",
       "    </tr>\n",
       "    <tr>\n",
       "      <th>strike</th>\n",
       "      <th></th>\n",
       "      <th></th>\n",
       "      <th></th>\n",
       "      <th></th>\n",
       "      <th></th>\n",
       "      <th></th>\n",
       "      <th></th>\n",
       "    </tr>\n",
       "  </thead>\n",
       "  <tbody>\n",
       "    <tr>\n",
       "      <th>26.46</th>\n",
       "      <td>PETRH254</td>\n",
       "      <td>PETRI271</td>\n",
       "      <td>2.683296</td>\n",
       "      <td>0.71</td>\n",
       "      <td>1.53</td>\n",
       "      <td>2.24</td>\n",
       "      <td>ITM</td>\n",
       "    </tr>\n",
       "    <tr>\n",
       "      <th>27.21</th>\n",
       "      <td>PETRH261</td>\n",
       "      <td>PETRI279</td>\n",
       "      <td>2.609335</td>\n",
       "      <td>0.71</td>\n",
       "      <td>1.19</td>\n",
       "      <td>1.90</td>\n",
       "      <td>OTM</td>\n",
       "    </tr>\n",
       "    <tr>\n",
       "      <th>27.46</th>\n",
       "      <td>PETRH256</td>\n",
       "      <td>PETRI281</td>\n",
       "      <td>2.804079</td>\n",
       "      <td>0.77</td>\n",
       "      <td>1.03</td>\n",
       "      <td>1.80</td>\n",
       "      <td>OTM</td>\n",
       "    </tr>\n",
       "    <tr>\n",
       "      <th>27.71</th>\n",
       "      <td>PETRH284</td>\n",
       "      <td>PETRI278</td>\n",
       "      <td>1.840491</td>\n",
       "      <td>0.51</td>\n",
       "      <td>0.94</td>\n",
       "      <td>1.45</td>\n",
       "      <td>OTM</td>\n",
       "    </tr>\n",
       "    <tr>\n",
       "      <th>27.96</th>\n",
       "      <td>PETRH247</td>\n",
       "      <td>PETRI286</td>\n",
       "      <td>1.967096</td>\n",
       "      <td>0.55</td>\n",
       "      <td>0.84</td>\n",
       "      <td>1.39</td>\n",
       "      <td>OTM</td>\n",
       "    </tr>\n",
       "    <tr>\n",
       "      <th>28.21</th>\n",
       "      <td>PETRH289</td>\n",
       "      <td>PETRI254</td>\n",
       "      <td>1.878766</td>\n",
       "      <td>0.53</td>\n",
       "      <td>0.71</td>\n",
       "      <td>1.24</td>\n",
       "      <td>OTM</td>\n",
       "    </tr>\n",
       "    <tr>\n",
       "      <th>28.46</th>\n",
       "      <td>PETRH279</td>\n",
       "      <td>PETRI276</td>\n",
       "      <td>2.037948</td>\n",
       "      <td>0.58</td>\n",
       "      <td>0.67</td>\n",
       "      <td>1.25</td>\n",
       "      <td>OTM</td>\n",
       "    </tr>\n",
       "    <tr>\n",
       "      <th>28.96</th>\n",
       "      <td>PETRH243</td>\n",
       "      <td>PETRI289</td>\n",
       "      <td>1.450276</td>\n",
       "      <td>0.42</td>\n",
       "      <td>0.49</td>\n",
       "      <td>0.91</td>\n",
       "      <td>OTM</td>\n",
       "    </tr>\n",
       "    <tr>\n",
       "      <th>29.21</th>\n",
       "      <td>PETRH299</td>\n",
       "      <td>PETRI291</td>\n",
       "      <td>2.259500</td>\n",
       "      <td>0.66</td>\n",
       "      <td>0.43</td>\n",
       "      <td>1.09</td>\n",
       "      <td>OTM</td>\n",
       "    </tr>\n",
       "    <tr>\n",
       "      <th>29.46</th>\n",
       "      <td>PETRH251</td>\n",
       "      <td>PETRI294</td>\n",
       "      <td>1.527495</td>\n",
       "      <td>0.45</td>\n",
       "      <td>0.38</td>\n",
       "      <td>0.83</td>\n",
       "      <td>OTM</td>\n",
       "    </tr>\n",
       "  </tbody>\n",
       "</table>\n",
       "</div>"
      ],
      "text/plain": [
       "       option_name_x option_name_y  thl_percent_of_strike  thl_cost  bid_x  \\\n",
       "strike                                                                       \n",
       "26.46       PETRH254      PETRI271               2.683296      0.71   1.53   \n",
       "27.21       PETRH261      PETRI279               2.609335      0.71   1.19   \n",
       "27.46       PETRH256      PETRI281               2.804079      0.77   1.03   \n",
       "27.71       PETRH284      PETRI278               1.840491      0.51   0.94   \n",
       "27.96       PETRH247      PETRI286               1.967096      0.55   0.84   \n",
       "28.21       PETRH289      PETRI254               1.878766      0.53   0.71   \n",
       "28.46       PETRH279      PETRI276               2.037948      0.58   0.67   \n",
       "28.96       PETRH243      PETRI289               1.450276      0.42   0.49   \n",
       "29.21       PETRH299      PETRI291               2.259500      0.66   0.43   \n",
       "29.46       PETRH251      PETRI294               1.527495      0.45   0.38   \n",
       "\n",
       "        ask_y deal_type_zone_y  \n",
       "strike                          \n",
       "26.46    2.24              ITM  \n",
       "27.21    1.90              OTM  \n",
       "27.46    1.80              OTM  \n",
       "27.71    1.45              OTM  \n",
       "27.96    1.39              OTM  \n",
       "28.21    1.24              OTM  \n",
       "28.46    1.25              OTM  \n",
       "28.96    0.91              OTM  \n",
       "29.21    1.09              OTM  \n",
       "29.46    0.83              OTM  "
      ]
     },
     "execution_count": 105,
     "metadata": {},
     "output_type": "execute_result"
    }
   ],
   "source": [
    "return_of_funcion['thl']"
   ]
  },
  {
   "cell_type": "code",
   "execution_count": null,
   "metadata": {},
   "outputs": [],
   "source": []
  },
  {
   "cell_type": "code",
   "execution_count": null,
   "metadata": {},
   "outputs": [],
   "source": []
  },
  {
   "cell_type": "code",
   "execution_count": null,
   "metadata": {},
   "outputs": [],
   "source": []
  },
  {
   "cell_type": "code",
   "execution_count": null,
   "metadata": {},
   "outputs": [],
   "source": []
  },
  {
   "cell_type": "code",
   "execution_count": null,
   "metadata": {},
   "outputs": [],
   "source": []
  },
  {
   "cell_type": "code",
   "execution_count": null,
   "metadata": {},
   "outputs": [],
   "source": []
  },
  {
   "cell_type": "code",
   "execution_count": null,
   "metadata": {},
   "outputs": [],
   "source": []
  },
  {
   "cell_type": "code",
   "execution_count": null,
   "metadata": {},
   "outputs": [],
   "source": []
  },
  {
   "cell_type": "code",
   "execution_count": null,
   "metadata": {},
   "outputs": [],
   "source": []
  },
  {
   "cell_type": "code",
   "execution_count": null,
   "metadata": {},
   "outputs": [],
   "source": []
  },
  {
   "cell_type": "code",
   "execution_count": null,
   "metadata": {},
   "outputs": [],
   "source": []
  },
  {
   "cell_type": "code",
   "execution_count": null,
   "metadata": {},
   "outputs": [],
   "source": []
  }
 ],
 "metadata": {
  "kernelspec": {
   "display_name": "Python 3",
   "language": "python",
   "name": "python3"
  },
  "language_info": {
   "codemirror_mode": {
    "name": "ipython",
    "version": 3
   },
   "file_extension": ".py",
   "mimetype": "text/x-python",
   "name": "python",
   "nbconvert_exporter": "python",
   "pygments_lexer": "ipython3",
   "version": "3.8.5"
  }
 },
 "nbformat": 4,
 "nbformat_minor": 4
}
