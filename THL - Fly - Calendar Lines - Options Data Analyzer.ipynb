{
 "cells": [
  {
   "cell_type": "code",
   "execution_count": 1,
   "metadata": {},
   "outputs": [],
   "source": [
    "from sqlalchemy import extract, desc\n",
    "import datetime\n",
    "import time\n",
    "import MetaTrader5 as mt5\n",
    "import pandas as pd\n",
    "\n",
    "import options_estrategies as opt_est\n",
    "from options_estrategies import Option_Due, InformationType\n",
    "import models as model"
   ]
  },
  {
   "cell_type": "code",
   "execution_count": 2,
   "metadata": {},
   "outputs": [],
   "source": [
    "if not mt5.initialize():\n",
    "    print(\"initialize() failed\")\n",
    "    mt5.shutdown()\n",
    "\n",
    "estrategies = opt_est.options_estrategies(model, model.PETR4, model.PETR4_OPTIONS)"
   ]
  },
  {
   "cell_type": "code",
   "execution_count": 3,
   "metadata": {},
   "outputs": [],
   "source": [
    "def thl_convert_dict_from_update_ticks_to_dataframe(tick_data):\n",
    "    df_tick_data = pd.DataFrame.from_dict(tick_data)\n",
    "    df_tick_data = df_tick_data.drop(columns=['_sa_instance_state','timestamp_option','days_to_due_date'])\n",
    "    df_tick_data['stock_price'] = df_tick_data.stock_price.astype(float)\n",
    "    df_tick_data = df_tick_data[['option_name','deal_type_zone','stock_price','strike','bid','ask']]\n",
    "    \n",
    "    return df_tick_data\n"
   ]
  },
  {
   "cell_type": "code",
   "execution_count": 4,
   "metadata": {},
   "outputs": [],
   "source": [
    "def thl_convert_dict_from_update_ticks_to_dataframe(data_thl):\n",
    "    df_thl_compare = data_thl.copy()\n",
    "    df_thl_compare[\"thl_cost\"] = (df_thl_compare['bid_x'] - df_thl_compare['ask_y'])*-1\n",
    "    df_thl_compare[\"thl_percent_of_strike\"] = (df_thl_compare[\"thl_cost\"] / df_thl_compare.index)*100\n",
    "    df_thl_compare = df_thl_compare[['option_name_x','option_name_y','thl_percent_of_strike','thl_cost','bid_x','ask_y','deal_type_zone_y']]\n",
    "    df_thl_compare = df_thl_compare[df_thl_compare['ask_y'] > 0]\n",
    "    return df_thl_compare"
   ]
  },
  {
   "cell_type": "code",
   "execution_count": 8,
   "metadata": {
    "scrolled": true
   },
   "outputs": [
    {
     "data": {
      "text/html": [
       "<div>\n",
       "<style scoped>\n",
       "    .dataframe tbody tr th:only-of-type {\n",
       "        vertical-align: middle;\n",
       "    }\n",
       "\n",
       "    .dataframe tbody tr th {\n",
       "        vertical-align: top;\n",
       "    }\n",
       "\n",
       "    .dataframe thead th {\n",
       "        text-align: right;\n",
       "    }\n",
       "</style>\n",
       "<table border=\"1\" class=\"dataframe\">\n",
       "  <thead>\n",
       "    <tr style=\"text-align: right;\">\n",
       "      <th></th>\n",
       "      <th>option_name_x</th>\n",
       "      <th>option_name_y</th>\n",
       "      <th>thl_percent_of_strike</th>\n",
       "      <th>thl_cost</th>\n",
       "      <th>bid_x</th>\n",
       "      <th>ask_y</th>\n",
       "      <th>deal_type_zone_y</th>\n",
       "    </tr>\n",
       "    <tr>\n",
       "      <th>strike</th>\n",
       "      <th></th>\n",
       "      <th></th>\n",
       "      <th></th>\n",
       "      <th></th>\n",
       "      <th></th>\n",
       "      <th></th>\n",
       "      <th></th>\n",
       "    </tr>\n",
       "  </thead>\n",
       "  <tbody>\n",
       "    <tr>\n",
       "      <th>28.96</th>\n",
       "      <td>PETRH243</td>\n",
       "      <td>PETRI289</td>\n",
       "      <td>1.484807</td>\n",
       "      <td>0.43</td>\n",
       "      <td>0.48</td>\n",
       "      <td>0.91</td>\n",
       "      <td>OTM</td>\n",
       "    </tr>\n",
       "  </tbody>\n",
       "</table>\n",
       "</div>"
      ],
      "text/plain": [
       "       option_name_x option_name_y  thl_percent_of_strike  thl_cost  bid_x  \\\n",
       "strike                                                                       \n",
       "28.96       PETRH243      PETRI289               1.484807      0.43   0.48   \n",
       "\n",
       "        ask_y deal_type_zone_y  \n",
       "strike                          \n",
       "28.96    0.91              OTM  "
      ]
     },
     "execution_count": 8,
     "metadata": {},
     "output_type": "execute_result"
    }
   ],
   "source": [
    "returned_thl_operations = estrategies.thl_operation(mode=InformationType.Real_Time)\n",
    "\n",
    "comparison_this_month = returned_thl_operations['thl']\n",
    "comparison_next_month = returned_thl_operations['thl_next_month']\n",
    "comparison_calendar = returned_thl_operations['thl_calendar']\n",
    "\n",
    "good_operation_THL = comparison_this_month[comparison_this_month['thl_percent_of_strike'] < 1.5]\n",
    "good_operation_THL_next_month = comparison_next_month[comparison_next_month['thl_percent_of_strike'] < 1.5]\n",
    "good_operation_calendar = comparison_calendar[comparison_calendar['thl_percent_of_strike'] < 1.5]\n",
    "\n",
    "\n",
    "good_operation_THL"
   ]
  },
  {
   "cell_type": "code",
   "execution_count": 9,
   "metadata": {},
   "outputs": [
    {
     "data": {
      "text/html": [
       "<div>\n",
       "<style scoped>\n",
       "    .dataframe tbody tr th:only-of-type {\n",
       "        vertical-align: middle;\n",
       "    }\n",
       "\n",
       "    .dataframe tbody tr th {\n",
       "        vertical-align: top;\n",
       "    }\n",
       "\n",
       "    .dataframe thead th {\n",
       "        text-align: right;\n",
       "    }\n",
       "</style>\n",
       "<table border=\"1\" class=\"dataframe\">\n",
       "  <thead>\n",
       "    <tr style=\"text-align: right;\">\n",
       "      <th></th>\n",
       "      <th>option_name_x</th>\n",
       "      <th>option_name_y</th>\n",
       "      <th>thl_percent_of_strike</th>\n",
       "      <th>thl_cost</th>\n",
       "      <th>bid_x</th>\n",
       "      <th>ask_y</th>\n",
       "      <th>deal_type_zone_y</th>\n",
       "    </tr>\n",
       "    <tr>\n",
       "      <th>strike</th>\n",
       "      <th></th>\n",
       "      <th></th>\n",
       "      <th></th>\n",
       "      <th></th>\n",
       "      <th></th>\n",
       "      <th></th>\n",
       "      <th></th>\n",
       "    </tr>\n",
       "  </thead>\n",
       "  <tbody>\n",
       "  </tbody>\n",
       "</table>\n",
       "</div>"
      ],
      "text/plain": [
       "Empty DataFrame\n",
       "Columns: [option_name_x, option_name_y, thl_percent_of_strike, thl_cost, bid_x, ask_y, deal_type_zone_y]\n",
       "Index: []"
      ]
     },
     "execution_count": 9,
     "metadata": {},
     "output_type": "execute_result"
    }
   ],
   "source": [
    "good_operation_THL_next_month\n"
   ]
  },
  {
   "cell_type": "code",
   "execution_count": 10,
   "metadata": {},
   "outputs": [
    {
     "data": {
      "text/html": [
       "<div>\n",
       "<style scoped>\n",
       "    .dataframe tbody tr th:only-of-type {\n",
       "        vertical-align: middle;\n",
       "    }\n",
       "\n",
       "    .dataframe tbody tr th {\n",
       "        vertical-align: top;\n",
       "    }\n",
       "\n",
       "    .dataframe thead th {\n",
       "        text-align: right;\n",
       "    }\n",
       "</style>\n",
       "<table border=\"1\" class=\"dataframe\">\n",
       "  <thead>\n",
       "    <tr style=\"text-align: right;\">\n",
       "      <th></th>\n",
       "      <th>option_name_x</th>\n",
       "      <th>option_name_y</th>\n",
       "      <th>thl_percent_of_strike</th>\n",
       "      <th>thl_cost</th>\n",
       "      <th>bid_x</th>\n",
       "      <th>ask_y</th>\n",
       "      <th>deal_type_zone_y</th>\n",
       "    </tr>\n",
       "    <tr>\n",
       "      <th>strike</th>\n",
       "      <th></th>\n",
       "      <th></th>\n",
       "      <th></th>\n",
       "      <th></th>\n",
       "      <th></th>\n",
       "      <th></th>\n",
       "      <th></th>\n",
       "    </tr>\n",
       "  </thead>\n",
       "  <tbody>\n",
       "  </tbody>\n",
       "</table>\n",
       "</div>"
      ],
      "text/plain": [
       "Empty DataFrame\n",
       "Columns: [option_name_x, option_name_y, thl_percent_of_strike, thl_cost, bid_x, ask_y, deal_type_zone_y]\n",
       "Index: []"
      ]
     },
     "execution_count": 10,
     "metadata": {},
     "output_type": "execute_result"
    }
   ],
   "source": [
    "good_operation_calendar  "
   ]
  },
  {
   "cell_type": "code",
   "execution_count": null,
   "metadata": {},
   "outputs": [],
   "source": [
    "df_thl = pd.merge(df_this_month, df_next_month, left_index=True, right_index=True)\n",
    "df_thl_next_month = pd.merge(df_next_month, df_after_next_month, left_index=True, right_index=True)\n",
    "df_thl_calendar = pd.merge(df_this_month, df_after_next_month, left_index=True, right_index=True)"
   ]
  },
  {
   "cell_type": "code",
   "execution_count": null,
   "metadata": {},
   "outputs": [],
   "source": [
    "def thl_convert_dict_from_update_ticks_to_dataframe(data_thl):\n",
    "    df_thl_compare = data_thl.copy()\n",
    "    df_thl_compare[\"thl_cost\"] = (df_thl_compare['bid_x'] - df_thl_compare['ask_y'])*-1\n",
    "    df_thl_compare[\"thl_percent_of_strike\"] = (df_thl_compare[\"thl_cost\"] / df_thl_compare.index)*100\n",
    "    df_thl_compare = df_thl_compare[['option_name_x','option_name_y','thl_percent_of_strike','thl_cost','bid_x','ask_y','deal_type_zone_y']]\n",
    "    df_thl_compare = df_thl_compare[df_thl_compare['ask_y'] > 0]\n",
    "    return df_thl_compare"
   ]
  },
  {
   "cell_type": "code",
   "execution_count": null,
   "metadata": {},
   "outputs": [],
   "source": [
    "comparison_this_month = compare_to_dataframes_of_thl(df_thl)\n",
    "comparison_next_month = compare_to_dataframes_of_thl(df_thl_next_month)\n",
    "comparison_calendar = compare_to_dataframes_of_thl(df_thl_calendar)\n",
    "\n",
    "good_operation_THL = comparison_this_month[comparison_this_month['thl_percent_of_strike'] < 1.5]\n",
    "good_operation_THL_next_month = comparison_next_month[comparison_next_month['thl_percent_of_strike'] < 1.5]\n",
    "good_operation_calendar = comparison_calendar[comparison_calendar['thl_percent_of_strike'] < 1.5]\n",
    "\n",
    "if len(good_operation_THL.index) > 0:\n",
    "    print(good_operation_THL)\n",
    "    \n",
    "if len(good_operation_THL_next_month.index) > 0:\n",
    "    print(good_operation_THL_next_month)\n",
    "\n",
    "if len(good_operation_calendar.index) > 0:\n",
    "    print(good_operation_calendar) "
   ]
  },
  {
   "cell_type": "code",
   "execution_count": null,
   "metadata": {},
   "outputs": [],
   "source": []
  },
  {
   "cell_type": "code",
   "execution_count": null,
   "metadata": {},
   "outputs": [],
   "source": [
    "   "
   ]
  },
  {
   "cell_type": "code",
   "execution_count": null,
   "metadata": {},
   "outputs": [],
   "source": [
    "return_of_funcion = dict(thl=comparison_this_month, thl_next_month=comparison_next_month, thl_calendar=comparison_calendar)"
   ]
  },
  {
   "cell_type": "code",
   "execution_count": null,
   "metadata": {},
   "outputs": [],
   "source": [
    "good_operation_THL"
   ]
  },
  {
   "cell_type": "code",
   "execution_count": null,
   "metadata": {},
   "outputs": [],
   "source": [
    "return_of_funcion['thl_next_month']"
   ]
  },
  {
   "cell_type": "code",
   "execution_count": null,
   "metadata": {},
   "outputs": [],
   "source": []
  },
  {
   "cell_type": "code",
   "execution_count": null,
   "metadata": {},
   "outputs": [],
   "source": []
  },
  {
   "cell_type": "code",
   "execution_count": null,
   "metadata": {},
   "outputs": [],
   "source": []
  },
  {
   "cell_type": "code",
   "execution_count": null,
   "metadata": {},
   "outputs": [],
   "source": []
  },
  {
   "cell_type": "code",
   "execution_count": null,
   "metadata": {},
   "outputs": [],
   "source": []
  },
  {
   "cell_type": "code",
   "execution_count": null,
   "metadata": {},
   "outputs": [],
   "source": []
  },
  {
   "cell_type": "code",
   "execution_count": null,
   "metadata": {},
   "outputs": [],
   "source": []
  },
  {
   "cell_type": "code",
   "execution_count": null,
   "metadata": {},
   "outputs": [],
   "source": []
  },
  {
   "cell_type": "code",
   "execution_count": null,
   "metadata": {},
   "outputs": [],
   "source": []
  },
  {
   "cell_type": "code",
   "execution_count": null,
   "metadata": {},
   "outputs": [],
   "source": []
  },
  {
   "cell_type": "code",
   "execution_count": null,
   "metadata": {},
   "outputs": [],
   "source": []
  }
 ],
 "metadata": {
  "kernelspec": {
   "display_name": "Python 3",
   "language": "python",
   "name": "python3"
  },
  "language_info": {
   "codemirror_mode": {
    "name": "ipython",
    "version": 3
   },
   "file_extension": ".py",
   "mimetype": "text/x-python",
   "name": "python",
   "nbconvert_exporter": "python",
   "pygments_lexer": "ipython3",
   "version": "3.8.5"
  }
 },
 "nbformat": 4,
 "nbformat_minor": 4
}
