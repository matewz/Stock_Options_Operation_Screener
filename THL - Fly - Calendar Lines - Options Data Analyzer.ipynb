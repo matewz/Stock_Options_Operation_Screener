{
 "cells": [
  {
   "cell_type": "code",
   "execution_count": 1,
   "metadata": {},
   "outputs": [],
   "source": [
    "from sqlalchemy import extract, desc\n",
    "import datetime\n",
    "import time\n",
    "import MetaTrader5 as mt5\n",
    "import pandas as pd\n",
    "\n",
    "import options_estrategies as opt_est\n",
    "from options_estrategies import Option_Due, InformationType\n",
    "import models as model"
   ]
  },
  {
   "cell_type": "code",
   "execution_count": 2,
   "metadata": {},
   "outputs": [],
   "source": [
    "if not mt5.initialize():\n",
    "    print(\"initialize() failed\")\n",
    "    mt5.shutdown()\n",
    "\n",
    "estrategies = opt_est.options_estrategies(model, model.PETR4, model.PETR4_OPTIONS)"
   ]
  },
  {
   "cell_type": "code",
   "execution_count": 3,
   "metadata": {},
   "outputs": [],
   "source": [
    "def thl_convert_dict_from_update_ticks_to_dataframe(tick_data):\n",
    "    df_tick_data = pd.DataFrame.from_dict(tick_data)\n",
    "    df_tick_data = df_tick_data.drop(columns=['_sa_instance_state','timestamp_option','days_to_due_date'])\n",
    "    df_tick_data['stock_price'] = df_tick_data.stock_price.astype(float)\n",
    "    df_tick_data = df_tick_data[['option_name','deal_type_zone','stock_price','strike','bid','ask']]\n",
    "    \n",
    "    return df_tick_data\n"
   ]
  },
  {
   "cell_type": "code",
   "execution_count": 4,
   "metadata": {},
   "outputs": [],
   "source": [
    "def thl_convert_dict_from_update_ticks_to_dataframe(data_thl):\n",
    "    df_thl_compare = data_thl.copy()\n",
    "    df_thl_compare[\"thl_cost\"] = (df_thl_compare['bid_x'] - df_thl_compare['ask_y'])*-1\n",
    "    df_thl_compare[\"thl_percent_of_strike\"] = (df_thl_compare[\"thl_cost\"] / df_thl_compare.index)*100\n",
    "    df_thl_compare = df_thl_compare[['option_name_x','option_name_y','thl_percent_of_strike','thl_cost','bid_x','ask_y','deal_type_zone_y']]\n",
    "    df_thl_compare = df_thl_compare[df_thl_compare['ask_y'] > 0]\n",
    "    return df_thl_compare"
   ]
  },
  {
   "cell_type": "code",
   "execution_count": 134,
   "metadata": {
    "scrolled": true
   },
   "outputs": [
    {
     "data": {
      "text/html": [
       "<div>\n",
       "<style scoped>\n",
       "    .dataframe tbody tr th:only-of-type {\n",
       "        vertical-align: middle;\n",
       "    }\n",
       "\n",
       "    .dataframe tbody tr th {\n",
       "        vertical-align: top;\n",
       "    }\n",
       "\n",
       "    .dataframe thead th {\n",
       "        text-align: right;\n",
       "    }\n",
       "</style>\n",
       "<table border=\"1\" class=\"dataframe\">\n",
       "  <thead>\n",
       "    <tr style=\"text-align: right;\">\n",
       "      <th></th>\n",
       "      <th>option_name_x</th>\n",
       "      <th>option_name_y</th>\n",
       "      <th>thl_percent_of_strike</th>\n",
       "      <th>thl_cost</th>\n",
       "      <th>bid_x</th>\n",
       "      <th>ask_y</th>\n",
       "      <th>deal_type_zone_y</th>\n",
       "    </tr>\n",
       "    <tr>\n",
       "      <th>strike</th>\n",
       "      <th></th>\n",
       "      <th></th>\n",
       "      <th></th>\n",
       "      <th></th>\n",
       "      <th></th>\n",
       "      <th></th>\n",
       "      <th></th>\n",
       "    </tr>\n",
       "  </thead>\n",
       "  <tbody>\n",
       "    <tr>\n",
       "      <th>28.21</th>\n",
       "      <td>PETRH289</td>\n",
       "      <td>PETRI254</td>\n",
       "      <td>1.488834</td>\n",
       "      <td>0.42</td>\n",
       "      <td>0.58</td>\n",
       "      <td>1.00</td>\n",
       "      <td>OTM</td>\n",
       "    </tr>\n",
       "    <tr>\n",
       "      <th>28.96</th>\n",
       "      <td>PETRH243</td>\n",
       "      <td>PETRI289</td>\n",
       "      <td>1.381215</td>\n",
       "      <td>0.40</td>\n",
       "      <td>0.38</td>\n",
       "      <td>0.78</td>\n",
       "      <td>OTM</td>\n",
       "    </tr>\n",
       "  </tbody>\n",
       "</table>\n",
       "</div>"
      ],
      "text/plain": [
       "       option_name_x option_name_y  thl_percent_of_strike  thl_cost  bid_x  \\\n",
       "strike                                                                       \n",
       "28.21       PETRH289      PETRI254               1.488834      0.42   0.58   \n",
       "28.96       PETRH243      PETRI289               1.381215      0.40   0.38   \n",
       "\n",
       "        ask_y deal_type_zone_y  \n",
       "strike                          \n",
       "28.21    1.00              OTM  \n",
       "28.96    0.78              OTM  "
      ]
     },
     "execution_count": 134,
     "metadata": {},
     "output_type": "execute_result"
    }
   ],
   "source": [
    "returned_thl_operations = estrategies.thl_operation(mode=InformationType.Real_Time)\n",
    "\n",
    "comparison_this_month = returned_thl_operations['thl']\n",
    "comparison_next_month = returned_thl_operations['thl_next_month']\n",
    "comparison_calendar = returned_thl_operations['thl_calendar']\n",
    "\n",
    "good_operation_THL = comparison_this_month[comparison_this_month['thl_percent_of_strike'] < 1.5]\n",
    "good_operation_THL_next_month = comparison_next_month[comparison_next_month['thl_percent_of_strike'] < 1.5]\n",
    "good_operation_calendar = comparison_calendar[comparison_calendar['thl_percent_of_strike'] < 1.5]\n",
    "\n",
    "\n",
    "good_operation_THL"
   ]
  },
  {
   "cell_type": "code",
   "execution_count": 135,
   "metadata": {},
   "outputs": [
    {
     "data": {
      "text/html": [
       "<div>\n",
       "<style scoped>\n",
       "    .dataframe tbody tr th:only-of-type {\n",
       "        vertical-align: middle;\n",
       "    }\n",
       "\n",
       "    .dataframe tbody tr th {\n",
       "        vertical-align: top;\n",
       "    }\n",
       "\n",
       "    .dataframe thead th {\n",
       "        text-align: right;\n",
       "    }\n",
       "</style>\n",
       "<table border=\"1\" class=\"dataframe\">\n",
       "  <thead>\n",
       "    <tr style=\"text-align: right;\">\n",
       "      <th></th>\n",
       "      <th>option_name_x</th>\n",
       "      <th>option_name_y</th>\n",
       "      <th>thl_percent_of_strike</th>\n",
       "      <th>thl_cost</th>\n",
       "      <th>bid_x</th>\n",
       "      <th>ask_y</th>\n",
       "      <th>deal_type_zone_y</th>\n",
       "    </tr>\n",
       "    <tr>\n",
       "      <th>strike</th>\n",
       "      <th></th>\n",
       "      <th></th>\n",
       "      <th></th>\n",
       "      <th></th>\n",
       "      <th></th>\n",
       "      <th></th>\n",
       "      <th></th>\n",
       "    </tr>\n",
       "  </thead>\n",
       "  <tbody>\n",
       "    <tr>\n",
       "      <th>24.96</th>\n",
       "      <td>PETRH236</td>\n",
       "      <td>PETRI256</td>\n",
       "      <td>5.248397</td>\n",
       "      <td>1.31</td>\n",
       "      <td>2.14</td>\n",
       "      <td>3.45</td>\n",
       "      <td>ITM</td>\n",
       "    </tr>\n",
       "    <tr>\n",
       "      <th>25.21</th>\n",
       "      <td>PETRH259</td>\n",
       "      <td>PETRI259</td>\n",
       "      <td>1.943673</td>\n",
       "      <td>0.49</td>\n",
       "      <td>2.11</td>\n",
       "      <td>2.60</td>\n",
       "      <td>ITM</td>\n",
       "    </tr>\n",
       "    <tr>\n",
       "      <th>25.46</th>\n",
       "      <td>PETRH246</td>\n",
       "      <td>PETRI251</td>\n",
       "      <td>3.142184</td>\n",
       "      <td>0.80</td>\n",
       "      <td>1.82</td>\n",
       "      <td>2.62</td>\n",
       "      <td>ITM</td>\n",
       "    </tr>\n",
       "    <tr>\n",
       "      <th>25.71</th>\n",
       "      <td>PETRH264</td>\n",
       "      <td>PETRI258</td>\n",
       "      <td>2.217036</td>\n",
       "      <td>0.57</td>\n",
       "      <td>1.80</td>\n",
       "      <td>2.37</td>\n",
       "      <td>ITM</td>\n",
       "    </tr>\n",
       "    <tr>\n",
       "      <th>25.96</th>\n",
       "      <td>PETRH229</td>\n",
       "      <td>PETRI266</td>\n",
       "      <td>2.272727</td>\n",
       "      <td>0.59</td>\n",
       "      <td>1.61</td>\n",
       "      <td>2.20</td>\n",
       "      <td>ITM</td>\n",
       "    </tr>\n",
       "    <tr>\n",
       "      <th>26.21</th>\n",
       "      <td>PETRH269</td>\n",
       "      <td>PETRI269</td>\n",
       "      <td>1.983976</td>\n",
       "      <td>0.52</td>\n",
       "      <td>1.48</td>\n",
       "      <td>2.00</td>\n",
       "      <td>ITM</td>\n",
       "    </tr>\n",
       "    <tr>\n",
       "      <th>26.46</th>\n",
       "      <td>PETRH254</td>\n",
       "      <td>PETRI271</td>\n",
       "      <td>2.305367</td>\n",
       "      <td>0.61</td>\n",
       "      <td>1.35</td>\n",
       "      <td>1.96</td>\n",
       "      <td>ITM</td>\n",
       "    </tr>\n",
       "    <tr>\n",
       "      <th>26.71</th>\n",
       "      <td>PETRH274</td>\n",
       "      <td>PETRI274</td>\n",
       "      <td>1.909397</td>\n",
       "      <td>0.51</td>\n",
       "      <td>1.21</td>\n",
       "      <td>1.72</td>\n",
       "      <td>OTM</td>\n",
       "    </tr>\n",
       "    <tr>\n",
       "      <th>26.96</th>\n",
       "      <td>PETRH276</td>\n",
       "      <td>PETRI261</td>\n",
       "      <td>1.780415</td>\n",
       "      <td>0.48</td>\n",
       "      <td>1.08</td>\n",
       "      <td>1.56</td>\n",
       "      <td>OTM</td>\n",
       "    </tr>\n",
       "    <tr>\n",
       "      <th>27.21</th>\n",
       "      <td>PETRH261</td>\n",
       "      <td>PETRI279</td>\n",
       "      <td>1.764057</td>\n",
       "      <td>0.48</td>\n",
       "      <td>0.96</td>\n",
       "      <td>1.44</td>\n",
       "      <td>OTM</td>\n",
       "    </tr>\n",
       "    <tr>\n",
       "      <th>27.46</th>\n",
       "      <td>PETRH256</td>\n",
       "      <td>PETRI281</td>\n",
       "      <td>1.675164</td>\n",
       "      <td>0.46</td>\n",
       "      <td>0.85</td>\n",
       "      <td>1.31</td>\n",
       "      <td>OTM</td>\n",
       "    </tr>\n",
       "    <tr>\n",
       "      <th>27.71</th>\n",
       "      <td>PETRH284</td>\n",
       "      <td>PETRI278</td>\n",
       "      <td>1.660051</td>\n",
       "      <td>0.46</td>\n",
       "      <td>0.76</td>\n",
       "      <td>1.22</td>\n",
       "      <td>OTM</td>\n",
       "    </tr>\n",
       "    <tr>\n",
       "      <th>27.96</th>\n",
       "      <td>PETRH247</td>\n",
       "      <td>PETRI286</td>\n",
       "      <td>1.609442</td>\n",
       "      <td>0.45</td>\n",
       "      <td>0.67</td>\n",
       "      <td>1.12</td>\n",
       "      <td>OTM</td>\n",
       "    </tr>\n",
       "    <tr>\n",
       "      <th>28.21</th>\n",
       "      <td>PETRH289</td>\n",
       "      <td>PETRI254</td>\n",
       "      <td>1.488834</td>\n",
       "      <td>0.42</td>\n",
       "      <td>0.58</td>\n",
       "      <td>1.00</td>\n",
       "      <td>OTM</td>\n",
       "    </tr>\n",
       "    <tr>\n",
       "      <th>28.46</th>\n",
       "      <td>PETRH279</td>\n",
       "      <td>PETRI276</td>\n",
       "      <td>1.546030</td>\n",
       "      <td>0.44</td>\n",
       "      <td>0.50</td>\n",
       "      <td>0.94</td>\n",
       "      <td>OTM</td>\n",
       "    </tr>\n",
       "    <tr>\n",
       "      <th>28.96</th>\n",
       "      <td>PETRH243</td>\n",
       "      <td>PETRI289</td>\n",
       "      <td>1.381215</td>\n",
       "      <td>0.40</td>\n",
       "      <td>0.38</td>\n",
       "      <td>0.78</td>\n",
       "      <td>OTM</td>\n",
       "    </tr>\n",
       "  </tbody>\n",
       "</table>\n",
       "</div>"
      ],
      "text/plain": [
       "       option_name_x option_name_y  thl_percent_of_strike  thl_cost  bid_x  \\\n",
       "strike                                                                       \n",
       "24.96       PETRH236      PETRI256               5.248397      1.31   2.14   \n",
       "25.21       PETRH259      PETRI259               1.943673      0.49   2.11   \n",
       "25.46       PETRH246      PETRI251               3.142184      0.80   1.82   \n",
       "25.71       PETRH264      PETRI258               2.217036      0.57   1.80   \n",
       "25.96       PETRH229      PETRI266               2.272727      0.59   1.61   \n",
       "26.21       PETRH269      PETRI269               1.983976      0.52   1.48   \n",
       "26.46       PETRH254      PETRI271               2.305367      0.61   1.35   \n",
       "26.71       PETRH274      PETRI274               1.909397      0.51   1.21   \n",
       "26.96       PETRH276      PETRI261               1.780415      0.48   1.08   \n",
       "27.21       PETRH261      PETRI279               1.764057      0.48   0.96   \n",
       "27.46       PETRH256      PETRI281               1.675164      0.46   0.85   \n",
       "27.71       PETRH284      PETRI278               1.660051      0.46   0.76   \n",
       "27.96       PETRH247      PETRI286               1.609442      0.45   0.67   \n",
       "28.21       PETRH289      PETRI254               1.488834      0.42   0.58   \n",
       "28.46       PETRH279      PETRI276               1.546030      0.44   0.50   \n",
       "28.96       PETRH243      PETRI289               1.381215      0.40   0.38   \n",
       "\n",
       "        ask_y deal_type_zone_y  \n",
       "strike                          \n",
       "24.96    3.45              ITM  \n",
       "25.21    2.60              ITM  \n",
       "25.46    2.62              ITM  \n",
       "25.71    2.37              ITM  \n",
       "25.96    2.20              ITM  \n",
       "26.21    2.00              ITM  \n",
       "26.46    1.96              ITM  \n",
       "26.71    1.72              OTM  \n",
       "26.96    1.56              OTM  \n",
       "27.21    1.44              OTM  \n",
       "27.46    1.31              OTM  \n",
       "27.71    1.22              OTM  \n",
       "27.96    1.12              OTM  \n",
       "28.21    1.00              OTM  \n",
       "28.46    0.94              OTM  \n",
       "28.96    0.78              OTM  "
      ]
     },
     "execution_count": 135,
     "metadata": {},
     "output_type": "execute_result"
    }
   ],
   "source": [
    "comparison_this_month\n"
   ]
  },
  {
   "cell_type": "code",
   "execution_count": 10,
   "metadata": {},
   "outputs": [
    {
     "data": {
      "text/html": [
       "<div>\n",
       "<style scoped>\n",
       "    .dataframe tbody tr th:only-of-type {\n",
       "        vertical-align: middle;\n",
       "    }\n",
       "\n",
       "    .dataframe tbody tr th {\n",
       "        vertical-align: top;\n",
       "    }\n",
       "\n",
       "    .dataframe thead th {\n",
       "        text-align: right;\n",
       "    }\n",
       "</style>\n",
       "<table border=\"1\" class=\"dataframe\">\n",
       "  <thead>\n",
       "    <tr style=\"text-align: right;\">\n",
       "      <th></th>\n",
       "      <th>option_name_x</th>\n",
       "      <th>option_name_y</th>\n",
       "      <th>thl_percent_of_strike</th>\n",
       "      <th>thl_cost</th>\n",
       "      <th>bid_x</th>\n",
       "      <th>ask_y</th>\n",
       "      <th>deal_type_zone_y</th>\n",
       "    </tr>\n",
       "    <tr>\n",
       "      <th>strike</th>\n",
       "      <th></th>\n",
       "      <th></th>\n",
       "      <th></th>\n",
       "      <th></th>\n",
       "      <th></th>\n",
       "      <th></th>\n",
       "      <th></th>\n",
       "    </tr>\n",
       "  </thead>\n",
       "  <tbody>\n",
       "  </tbody>\n",
       "</table>\n",
       "</div>"
      ],
      "text/plain": [
       "Empty DataFrame\n",
       "Columns: [option_name_x, option_name_y, thl_percent_of_strike, thl_cost, bid_x, ask_y, deal_type_zone_y]\n",
       "Index: []"
      ]
     },
     "execution_count": 10,
     "metadata": {},
     "output_type": "execute_result"
    }
   ],
   "source": [
    "good_operation_calendar  "
   ]
  },
  {
   "cell_type": "code",
   "execution_count": null,
   "metadata": {},
   "outputs": [],
   "source": []
  },
  {
   "cell_type": "code",
   "execution_count": 130,
   "metadata": {},
   "outputs": [],
   "source": [
    "last_warnings = []\n",
    "alarme_to_remove = []\n",
    "\n",
    "def check_exists_alarm(operation, option_name, time_expiration = 4):\n",
    "    for i in range(0,len(last_warnings)):\n",
    "        if last_warnings[i]['timestamp'] < (datetime.datetime.now() - datetime.timedelta(minutes=time_expiration)):\n",
    "            alarme_to_remove.append(last_warnings[i])\n",
    "\n",
    "    for i in range(0,len(alarme_to_remove)):\n",
    "        last_warnings.remove(last_warnings[i])\n",
    "        \n",
    "    for i in range(0,len(last_warnings)):\n",
    "        if last_warnings[i]['operation'] == str(operation) and last_warnings[i]['option_name'] == str(option_name):\n",
    "            return True\n",
    "        \n",
    "    return False\n",
    "    \n",
    "    \n",
    "def add_alarm(operation, option_name):\n",
    "    warning = dict(operation=str(operation), option_name=str(option_name), timestamp=datetime.datetime.now())\n",
    "    last_warnings.append(warning)\n",
    "\n"
   ]
  },
  {
   "cell_type": "code",
   "execution_count": 131,
   "metadata": {},
   "outputs": [
    {
     "data": {
      "text/plain": [
       "[{'operation': 'THL',\n",
       "  'option_name': 'PETRH243_PETRI289',\n",
       "  'timestamp': datetime.datetime(2021, 7, 16, 13, 33, 29, 966036)}]"
      ]
     },
     "execution_count": 131,
     "metadata": {},
     "output_type": "execute_result"
    }
   ],
   "source": [
    "add_alarm('THL', 'PETRH243_PETRI289')\n",
    "last_warnings"
   ]
  },
  {
   "cell_type": "code",
   "execution_count": 132,
   "metadata": {},
   "outputs": [
    {
     "data": {
      "text/plain": [
       "True"
      ]
     },
     "execution_count": 132,
     "metadata": {},
     "output_type": "execute_result"
    }
   ],
   "source": [
    "check_exists_alarm('THL','PETRH243_PETRI289')"
   ]
  },
  {
   "cell_type": "code",
   "execution_count": 129,
   "metadata": {},
   "outputs": [
    {
     "data": {
      "text/plain": [
       "[]"
      ]
     },
     "execution_count": 129,
     "metadata": {},
     "output_type": "execute_result"
    }
   ],
   "source": [
    "last_warnings"
   ]
  },
  {
   "cell_type": "code",
   "execution_count": 43,
   "metadata": {},
   "outputs": [
    {
     "ename": "KeyError",
     "evalue": "'OPTION1OPTION2'",
     "output_type": "error",
     "traceback": [
      "\u001b[1;31m---------------------------------------------------------------------------\u001b[0m",
      "\u001b[1;31mKeyError\u001b[0m                                  Traceback (most recent call last)",
      "\u001b[1;32m<ipython-input-43-dbf49ad84789>\u001b[0m in \u001b[0;36m<module>\u001b[1;34m\u001b[0m\n\u001b[1;32m----> 1\u001b[1;33m \u001b[0mlast_warnings\u001b[0m\u001b[1;33m.\u001b[0m\u001b[0mpop\u001b[0m\u001b[1;33m(\u001b[0m\u001b[1;34m'OPTION1OPTION2'\u001b[0m\u001b[1;33m)\u001b[0m\u001b[1;33m\u001b[0m\u001b[1;33m\u001b[0m\u001b[0m\n\u001b[0m\u001b[0;32m      2\u001b[0m \u001b[0mlast_warnings\u001b[0m\u001b[1;33m\u001b[0m\u001b[1;33m\u001b[0m\u001b[0m\n",
      "\u001b[1;31mKeyError\u001b[0m: 'OPTION1OPTION2'"
     ]
    }
   ],
   "source": []
  },
  {
   "cell_type": "code",
   "execution_count": null,
   "metadata": {},
   "outputs": [],
   "source": []
  },
  {
   "cell_type": "code",
   "execution_count": null,
   "metadata": {},
   "outputs": [],
   "source": []
  },
  {
   "cell_type": "code",
   "execution_count": null,
   "metadata": {},
   "outputs": [],
   "source": []
  },
  {
   "cell_type": "code",
   "execution_count": null,
   "metadata": {},
   "outputs": [],
   "source": []
  },
  {
   "cell_type": "code",
   "execution_count": null,
   "metadata": {},
   "outputs": [],
   "source": []
  },
  {
   "cell_type": "code",
   "execution_count": null,
   "metadata": {},
   "outputs": [],
   "source": []
  },
  {
   "cell_type": "code",
   "execution_count": null,
   "metadata": {},
   "outputs": [],
   "source": []
  },
  {
   "cell_type": "code",
   "execution_count": null,
   "metadata": {},
   "outputs": [],
   "source": []
  },
  {
   "cell_type": "code",
   "execution_count": null,
   "metadata": {},
   "outputs": [],
   "source": []
  },
  {
   "cell_type": "code",
   "execution_count": null,
   "metadata": {},
   "outputs": [],
   "source": []
  },
  {
   "cell_type": "code",
   "execution_count": null,
   "metadata": {},
   "outputs": [],
   "source": []
  },
  {
   "cell_type": "code",
   "execution_count": null,
   "metadata": {},
   "outputs": [],
   "source": []
  },
  {
   "cell_type": "code",
   "execution_count": null,
   "metadata": {},
   "outputs": [],
   "source": []
  }
 ],
 "metadata": {
  "kernelspec": {
   "display_name": "Python 3",
   "language": "python",
   "name": "python3"
  },
  "language_info": {
   "codemirror_mode": {
    "name": "ipython",
    "version": 3
   },
   "file_extension": ".py",
   "mimetype": "text/x-python",
   "name": "python",
   "nbconvert_exporter": "python",
   "pygments_lexer": "ipython3",
   "version": "3.8.5"
  }
 },
 "nbformat": 4,
 "nbformat_minor": 4
}
