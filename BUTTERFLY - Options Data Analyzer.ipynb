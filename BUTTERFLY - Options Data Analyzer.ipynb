{
 "cells": [
  {
   "cell_type": "code",
   "execution_count": 1,
   "metadata": {},
   "outputs": [],
   "source": [
    "from sqlalchemy import extract, desc\n",
    "import datetime\n",
    "import time\n",
    "import MetaTrader5 as mt5\n",
    "import pandas as pd\n",
    "\n",
    "import options_estrategies as opt_est\n",
    "from options_estrategies import Option_Due, InformationType\n",
    "import models as model"
   ]
  },
  {
   "cell_type": "code",
   "execution_count": 2,
   "metadata": {},
   "outputs": [],
   "source": [
    "if not mt5.initialize():\n",
    "    print(\"initialize() failed\")\n",
    "    mt5.shutdown()\n",
    "\n",
    "estrategies = opt_est.options_estrategies(model, model.PETR4, model.PETR4_OPTIONS)"
   ]
  },
  {
   "cell_type": "code",
   "execution_count": 3,
   "metadata": {},
   "outputs": [],
   "source": [
    "def get_book_and_return_first_line(symb):\n",
    "    #get ASK and BID price and volume\n",
    "    #returning BookInfo\n",
    "    mt5.market_book_add(symb)\n",
    "    time.sleep(0.1)\n",
    "    items = mt5.market_book_get(symb)\n",
    "    mt5.market_book_release(symb)  \n",
    "    if len(items) > 0:\n",
    "        for l in range(0,len(items)):\n",
    "            if l > 0:\n",
    "                if items[l].type != items[l-1].type:\n",
    "                    return {'bid': items[l], 'ask': items[l-1]}\n",
    "\n",
    "# bid - [BookInfo(type=2, price=1.02, volume=41100, volume_dbl=41100.0),\n",
    "# ask - [BookInfo(type=1, price=1.07, volume=41100, volume_dbl=41100.0)]"
   ]
  },
  {
   "cell_type": "code",
   "execution_count": 13,
   "metadata": {},
   "outputs": [],
   "source": [
    "   \n",
    "def butterfly_realtime(tick_data, cost_limit = 1, show_broken_wings = False):\n",
    "    \n",
    "    # math = buy 1 -> sell 2 next strike -> buy 1 after next\n",
    "    # return how much you need to pay to mount this structur\n",
    "    # if negative you receive money to create it\n",
    "    # check if butterfly have symmetric wings\n",
    "    \n",
    "    model_return = []\n",
    "    for i in range(0,len(tick_data)-2):\n",
    "        assymetric_wings = 0\n",
    "        \n",
    "        #check if are symmetric wings\n",
    "        diff_wings = tick_data[i].strike - (2 * tick_data[i + 1].strike) + tick_data[i + 2].strike\n",
    "        \n",
    "        #tic = time.perf_counter()\n",
    "        wing_1 = get_book_and_return_first_line(tick_data[i].option_name)\n",
    "        wing_2 = get_book_and_return_first_line(tick_data[i+1].option_name)\n",
    "        wing_3 = get_book_and_return_first_line(tick_data[i+2].option_name)\n",
    "        #toc = time.perf_counter()\n",
    "        #print(f\"Time to request data {toc - tic:0.4f} seconds\")\n",
    "\n",
    "        if wing_1 != None:\n",
    "            wing_1_price = wing_1['ask'].price\n",
    "            wing_1_volume = wing_1['ask'].volume\n",
    "        else: \n",
    "            wing_1_price = tick_data[i].ask\n",
    "            wing_1_volume = 0\n",
    "            if float(wing_1_price) == 0:\n",
    "                continue\n",
    "                \n",
    "        if wing_2 != None:\n",
    "            wing_2_price = wing_2['bid'].price\n",
    "            wing_2_volume = wing_2['bid'].volume\n",
    "        else: \n",
    "            wing_2_price = tick_data[i+1].bid\n",
    "            wing_2_volume = 0\n",
    "            if float(wing_2_price) == 0:\n",
    "                continue           \n",
    "\n",
    "        if wing_3 != None:\n",
    "            wing_3_price = wing_3['ask'].price\n",
    "            wing_3_volume = wing_3['ask'].volume\n",
    "            if float(wing_3_price) == 0:\n",
    "                continue\n",
    "        else: \n",
    "            wing_3_price = tick_data[i+2].ask\n",
    "            wing_3_volume = 0\n",
    "            if float(wing_3_price) == 0:\n",
    "                continue\n",
    "            \n",
    "        wing_1_price = round(wing_1_price,2)\n",
    "        wing_2_price = round(wing_2_price,2)\n",
    "        wing_3_price = round(wing_3_price,2)\n",
    "        \n",
    "        cost =  round(wing_1_price - (2 * wing_2_price) + wing_3_price,2)\n",
    "        \n",
    "        max_profit = round((tick_data[i + 1].strike - tick_data[i].strike) - cost,2)\n",
    "        stock_price = float(tick_data[i].stock_price)\n",
    "        percent_to_max_profit = round(((tick_data[i + 1].strike - stock_price) / stock_price)*100,2)\n",
    "        max_loss = cost\n",
    "        \n",
    "        if diff_wings > 0 and show_broken_wings == False:\n",
    "            break\n",
    "        else:\n",
    "            max_loss = cost\n",
    "            \n",
    "        if cost < cost_limit:\n",
    "            max_volume = min([wing_1_volume,wing_2_volume,wing_3_volume])\n",
    "            #'{}:{}:{}'.format('teste','1','ou')\n",
    "            butterfly_symbols = '{}: {}, {}: {}, {}:{} '.format(tick_data[i].option_name\n",
    "                                                , wing_1_price\n",
    "                                                , tick_data[i + 1].option_name\n",
    "                                                , wing_2_price\n",
    "                                                , tick_data[i + 2].option_name\n",
    "                                                , wing_3_price)\n",
    "            model_return.append(\n",
    "                {\n",
    "                 'BUTTERFLY': butterfly_symbols\n",
    "                 , \"COST\": cost             \n",
    "                 , \"MAX_PROFIT\": max_profit\n",
    "                 , \"MAX_LOSS\": max_loss\n",
    "                 , \"MAX_VOLUME\" : max_volume                    \n",
    "                 , \"DIFF_BETWEEN_WINGS\": diff_wings\n",
    "                 , \"PERCENT_2_MAX_PAYOFF\":percent_to_max_profit\n",
    "                })\n",
    "\n",
    "    return model_return\n",
    "\n",
    "    "
   ]
  },
  {
   "cell_type": "code",
   "execution_count": 14,
   "metadata": {},
   "outputs": [],
   "source": [
    "def butterfly_cost(tick_data, cost_limit = 1, show_broken_wings = False):\n",
    "    \n",
    "    # math = buy 1 -> sell 2 next strike -> buy 1 after next\n",
    "    # return how much you need to pay to mount this structur\n",
    "    # if negative you receive money to create it\n",
    "    # check if butterfly have symmetric wings\n",
    "    \n",
    "    model_return = []\n",
    "    for i in range(0,len(tick_data)-2):\n",
    "        assymetric_wings = 0\n",
    "        \n",
    "        #check if are symmetric wings\n",
    "        diff_wings = tick_data[i].strike - (2 * tick_data[i + 1].strike) + tick_data[i + 2].strike\n",
    "        \n",
    "        wing_1_price = tick_data[i].ask\n",
    "        wing_2_price = tick_data[i + 1].bid\n",
    "        wing_3_price = tick_data[i + 2].ask\n",
    "        if float(wing_1_price) == 0 or float(wing_2_price) == 0 or float(wing_3_price) == 0:\n",
    "            continue\n",
    "        \n",
    "        cost =  wing_1_price - (2 * wing_2_price) + wing_3_price\n",
    "         \n",
    "        max_profit = round((tick_data[i + 1].strike - tick_data[i].strike) - cost,2)\n",
    "        stock_price = float(tick_data[i].stock_price)\n",
    "        percent_to_max_profit = round(((tick_data[i + 1].strike - stock_price) / stock_price)*100,2)\n",
    "        max_loss = cost\n",
    "        \n",
    "        if diff_wings > 0 and show_broken_wings == False:\n",
    "            continue\n",
    "        else:\n",
    "            max_loss = cost\n",
    "            \n",
    "        if cost < cost_limit:\n",
    "            butterfly_symbols = '{}: {}, {}: {}, {}:{} '.format(tick_data[i].option_name\n",
    "                                                , round(wing_1_price,2)\n",
    "                                                , tick_data[i + 1].option_name\n",
    "                                                , round(wing_2_price,2)\n",
    "                                                , tick_data[i + 2].option_name\n",
    "                                                , round(wing_3_price,2))            \n",
    "            model_return.append(\n",
    "                {\n",
    "                 'BUTTERFLY': butterfly_symbols\n",
    "                 , \"COST\": cost             \n",
    "                 , \"MAX_PROFIT\": max_profit\n",
    "                 , \"MAX_LOSS\": max_loss                 \n",
    "                 , \"DIFF_BETWEEN_WINGS\": diff_wings\n",
    "                 , \"PERCENT_2_MAX_PAYOFF\":percent_to_max_profit\n",
    "                })\n",
    "\n",
    "    return model_return\n",
    " "
   ]
  },
  {
   "cell_type": "code",
   "execution_count": 15,
   "metadata": {},
   "outputs": [],
   "source": [
    "updated_ticks = estrategies.update_quotes(just_last_update=True,mode=InformationType.Offline)\n",
    "       "
   ]
  },
  {
   "cell_type": "code",
   "execution_count": 16,
   "metadata": {
    "scrolled": true
   },
   "outputs": [],
   "source": [
    "this_due = updated_ticks[0]\n",
    "next_due = updated_ticks[1]\n",
    "after_next_due = updated_ticks[1]\n"
   ]
  },
  {
   "cell_type": "code",
   "execution_count": 27,
   "metadata": {},
   "outputs": [
    {
     "data": {
      "text/plain": [
       "[]"
      ]
     },
     "execution_count": 27,
     "metadata": {},
     "output_type": "execute_result"
    }
   ],
   "source": [
    "butterfly_offline_data_dict = butterfly_realtime(this_due,0.03,True)\n",
    "butterfly_offline_data_dict"
   ]
  },
  {
   "cell_type": "code",
   "execution_count": null,
   "metadata": {},
   "outputs": [],
   "source": []
  },
  {
   "cell_type": "code",
   "execution_count": null,
   "metadata": {},
   "outputs": [],
   "source": []
  },
  {
   "cell_type": "code",
   "execution_count": null,
   "metadata": {},
   "outputs": [],
   "source": []
  },
  {
   "cell_type": "code",
   "execution_count": null,
   "metadata": {},
   "outputs": [],
   "source": []
  },
  {
   "cell_type": "code",
   "execution_count": null,
   "metadata": {},
   "outputs": [],
   "source": []
  },
  {
   "cell_type": "code",
   "execution_count": null,
   "metadata": {},
   "outputs": [],
   "source": []
  },
  {
   "cell_type": "code",
   "execution_count": null,
   "metadata": {},
   "outputs": [],
   "source": []
  },
  {
   "cell_type": "code",
   "execution_count": null,
   "metadata": {},
   "outputs": [],
   "source": []
  }
 ],
 "metadata": {
  "kernelspec": {
   "display_name": "Python 3",
   "language": "python",
   "name": "python3"
  },
  "language_info": {
   "codemirror_mode": {
    "name": "ipython",
    "version": 3
   },
   "file_extension": ".py",
   "mimetype": "text/x-python",
   "name": "python",
   "nbconvert_exporter": "python",
   "pygments_lexer": "ipython3",
   "version": "3.8.5"
  }
 },
 "nbformat": 4,
 "nbformat_minor": 4
}
