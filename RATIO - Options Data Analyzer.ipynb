{
 "cells": [
  {
   "cell_type": "code",
   "execution_count": null,
   "metadata": {},
   "outputs": [],
   "source": [
    "from sqlalchemy import extract, desc\n",
    "import datetime\n",
    "import time\n",
    "import MetaTrader5 as mt5\n",
    "import pandas as pd\n",
    "\n",
    "import options_estrategies as opt_est\n",
    "from options_estrategies import Option_Due, InformationType\n",
    "import models as model"
   ]
  },
  {
   "cell_type": "code",
   "execution_count": null,
   "metadata": {},
   "outputs": [],
   "source": [
    "if not mt5.initialize():\n",
    "    print(\"initialize() failed\")\n",
    "    mt5.shutdown()\n",
    "\n",
    "\n",
    "estrategies = opt_est.options_estrategies(model, model.PETR4, model.PETR4_OPTIONS)"
   ]
  },
  {
   "cell_type": "code",
   "execution_count": null,
   "metadata": {},
   "outputs": [],
   "source": [
    "def convert_dict_from_update_ticks_to_dataframe(tick_data):\n",
    "    df_tick_data = pd.DataFrame.from_dict(tick_data)\n",
    "    df_tick_data = df_tick_data.drop(columns=['_sa_instance_state','timestamp_option','days_to_due_date'])\n",
    "    df_tick_data['ratio'] = df_tick_data['last_tick'] - df_tick_data['last_tick'].shift(1)\n",
    "    df_tick_data = df_tick_data[['option_name', 'strike', 'bid', 'ask', 'last_tick','ratio','stock_price','deal_type_zone','updated_at']]      \n",
    "    return df_tick_data\n"
   ]
  },
  {
   "cell_type": "code",
   "execution_count": null,
   "metadata": {},
   "outputs": [],
   "source": [
    "updated_ticks = estrategies.update_quotes(just_last_update=False,mode=InformationType.Offline)\n",
    "ticks_to_process = updated_ticks[0]\n",
    "\n",
    "options = []\n",
    "for i in ticks_to_process:\n",
    "    options.append(i.__dict__)\n",
    "\n",
    "dataframe_historical_ticks = convert_dict_from_update_ticks_to_dataframe(options)"
   ]
  },
  {
   "cell_type": "code",
   "execution_count": null,
   "metadata": {},
   "outputs": [],
   "source": [
    "ratio_statistic_finder = dataframe_historical_ticks[['updated_at','option_name','ratio']]\n",
    "ratio_statistic_finder.set_index('updated_at')\n",
    "ratio_statistic_finder = ratio_statistic_finder.pivot(index='updated_at', columns='option_name', values='ratio')\n",
    "ratio_statistic_finder = ratio_statistic_finder.dropna(axis=True)\n",
    "\n",
    "ratio_statistic_data = {}\n",
    "for (column, value) in ratio_statistic_finder.iteritems():\n",
    "    ratio_statistic_data.update({ column: { \"Mean\": ratio_statistic_finder[column].mean(), \"StdDev\": ratio_statistic_finder[column].std(), \"2xStdDev\": (ratio_statistic_finder[column].std()*2)  }}) \n",
    "\n",
    "ratio_statistic_dataframe = pd.DataFrame.from_dict(ratio_statistic_data)\n",
    "ratio_statistic_dataframe = ratio_statistic_dataframe.transpose()\n",
    "\n",
    "\n",
    "updated_ticks = estrategies.update_quotes(just_last_update=True,mode=InformationType.Real_Time)\n",
    "ticks_to_process = updated_ticks[0]\n",
    "options_updated = []\n",
    "for i in ticks_to_process:\n",
    "    options_updated.append(i.__dict__)\n",
    "\n",
    "df_options_updated = convert_dict_from_update_ticks_to_dataframe(options_updated)\n",
    "df_options_updated.reset_index()\n",
    "df_options_updated = df_options_updated.set_index('option_name')\n",
    "df_options_updated = pd.merge(df_options_updated, ratio_statistic_dataframe, left_index=True, right_index=True)\n",
    "\n",
    "df_options_updated['above_mean'] = abs(df_options_updated['ratio']) > abs(df_options_updated['Mean'])\n",
    "df_options_updated['above_2x_std_dev'] = abs(df_options_updated['ratio']) > abs(abs(df_options_updated['Mean']) + df_options_updated['2xStdDev'])\n",
    "df_options_updated"
   ]
  },
  {
   "cell_type": "code",
   "execution_count": null,
   "metadata": {},
   "outputs": [],
   "source": []
  },
  {
   "cell_type": "code",
   "execution_count": null,
   "metadata": {},
   "outputs": [],
   "source": []
  },
  {
   "cell_type": "code",
   "execution_count": null,
   "metadata": {},
   "outputs": [],
   "source": []
  },
  {
   "cell_type": "code",
   "execution_count": null,
   "metadata": {},
   "outputs": [],
   "source": []
  },
  {
   "cell_type": "code",
   "execution_count": null,
   "metadata": {},
   "outputs": [],
   "source": []
  },
  {
   "cell_type": "code",
   "execution_count": null,
   "metadata": {},
   "outputs": [],
   "source": []
  },
  {
   "cell_type": "code",
   "execution_count": null,
   "metadata": {},
   "outputs": [],
   "source": []
  },
  {
   "cell_type": "code",
   "execution_count": null,
   "metadata": {},
   "outputs": [],
   "source": []
  },
  {
   "cell_type": "code",
   "execution_count": null,
   "metadata": {},
   "outputs": [],
   "source": []
  },
  {
   "cell_type": "code",
   "execution_count": null,
   "metadata": {},
   "outputs": [],
   "source": []
  },
  {
   "cell_type": "code",
   "execution_count": null,
   "metadata": {},
   "outputs": [],
   "source": []
  },
  {
   "cell_type": "code",
   "execution_count": null,
   "metadata": {},
   "outputs": [],
   "source": []
  },
  {
   "cell_type": "code",
   "execution_count": null,
   "metadata": {},
   "outputs": [],
   "source": []
  },
  {
   "cell_type": "code",
   "execution_count": null,
   "metadata": {},
   "outputs": [],
   "source": []
  },
  {
   "cell_type": "code",
   "execution_count": null,
   "metadata": {},
   "outputs": [],
   "source": []
  },
  {
   "cell_type": "code",
   "execution_count": null,
   "metadata": {},
   "outputs": [],
   "source": []
  },
  {
   "cell_type": "code",
   "execution_count": null,
   "metadata": {},
   "outputs": [],
   "source": []
  },
  {
   "cell_type": "code",
   "execution_count": null,
   "metadata": {},
   "outputs": [],
   "source": []
  }
 ],
 "metadata": {
  "kernelspec": {
   "display_name": "Python 3",
   "language": "python",
   "name": "python3"
  },
  "language_info": {
   "codemirror_mode": {
    "name": "ipython",
    "version": 3
   },
   "file_extension": ".py",
   "mimetype": "text/x-python",
   "name": "python",
   "nbconvert_exporter": "python",
   "pygments_lexer": "ipython3",
   "version": "3.8.5"
  }
 },
 "nbformat": 4,
 "nbformat_minor": 4
}
